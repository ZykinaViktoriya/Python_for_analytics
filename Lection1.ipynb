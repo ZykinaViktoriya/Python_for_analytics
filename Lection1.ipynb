{
  "nbformat": 4,
  "nbformat_minor": 0,
  "metadata": {
    "colab": {
      "provenance": [],
      "authorship_tag": "ABX9TyMikTzajd7BR4lTcK9HY2IP",
      "include_colab_link": true
    },
    "kernelspec": {
      "name": "python3",
      "display_name": "Python 3"
    },
    "language_info": {
      "name": "python"
    }
  },
  "cells": [
    {
      "cell_type": "markdown",
      "metadata": {
        "id": "view-in-github",
        "colab_type": "text"
      },
      "source": [
        "<a href=\"https://colab.research.google.com/github/ZykinaViktoriya/Python_for_analytics/blob/main/Lection1.ipynb\" target=\"_parent\"><img src=\"https://colab.research.google.com/assets/colab-badge.svg\" alt=\"Open In Colab\"/></a>"
      ]
    },
    {
      "cell_type": "markdown",
      "source": [
        "## Словари"
      ],
      "metadata": {
        "id": "WWE5hE1VBiNr"
      }
    },
    {
      "cell_type": "code",
      "execution_count": 1,
      "metadata": {
        "colab": {
          "base_uri": "https://localhost:8080/"
        },
        "id": "2D0MuBal_sMm",
        "outputId": "706e4ca7-3b9a-4b3d-ecac-4f4def12f47d"
      },
      "outputs": [
        {
          "output_type": "execute_result",
          "data": {
            "text/plain": [
              "{'name': 'John', 'surname': 'Doe', 'age': 32}"
            ]
          },
          "metadata": {},
          "execution_count": 1
        }
      ],
      "source": [
        "client_data = {\n",
        "    'name': 'John',\n",
        "    'surname': 'Doe',\n",
        "    'age': 32\n",
        "}\n",
        "\n",
        "client_data"
      ]
    },
    {
      "cell_type": "code",
      "source": [
        "client_data['name']"
      ],
      "metadata": {
        "colab": {
          "base_uri": "https://localhost:8080/",
          "height": 36
        },
        "id": "bOqWXh26BoeE",
        "outputId": "ad79b81c-33b4-4938-8d31-d984e7ca652c"
      },
      "execution_count": 2,
      "outputs": [
        {
          "output_type": "execute_result",
          "data": {
            "text/plain": [
              "'John'"
            ],
            "application/vnd.google.colaboratory.intrinsic+json": {
              "type": "string"
            }
          },
          "metadata": {},
          "execution_count": 2
        }
      ]
    },
    {
      "cell_type": "code",
      "source": [
        "client_data.keys()"
      ],
      "metadata": {
        "colab": {
          "base_uri": "https://localhost:8080/"
        },
        "id": "GPKg144mBv-F",
        "outputId": "9045d76e-bece-445b-b3cc-f9a1d3464909"
      },
      "execution_count": 3,
      "outputs": [
        {
          "output_type": "execute_result",
          "data": {
            "text/plain": [
              "dict_keys(['name', 'surname', 'age'])"
            ]
          },
          "metadata": {},
          "execution_count": 3
        }
      ]
    },
    {
      "cell_type": "code",
      "source": [
        "client_data.values()"
      ],
      "metadata": {
        "colab": {
          "base_uri": "https://localhost:8080/"
        },
        "id": "pXFfFqcaBxwQ",
        "outputId": "4eeac04f-8ced-4663-bccf-ca93a3209148"
      },
      "execution_count": 4,
      "outputs": [
        {
          "output_type": "execute_result",
          "data": {
            "text/plain": [
              "dict_values(['John', 'Doe', 32])"
            ]
          },
          "metadata": {},
          "execution_count": 4
        }
      ]
    },
    {
      "cell_type": "code",
      "source": [
        "client_data.items()"
      ],
      "metadata": {
        "colab": {
          "base_uri": "https://localhost:8080/"
        },
        "id": "S6CfaWJFBzt-",
        "outputId": "f074353b-b2d6-45cd-daad-4af08abde4ba"
      },
      "execution_count": 5,
      "outputs": [
        {
          "output_type": "execute_result",
          "data": {
            "text/plain": [
              "dict_items([('name', 'John'), ('surname', 'Doe'), ('age', 32)])"
            ]
          },
          "metadata": {},
          "execution_count": 5
        }
      ]
    },
    {
      "cell_type": "code",
      "source": [
        "for k, v in client_data.items():\n",
        "    print(f'{k}: {v}')"
      ],
      "metadata": {
        "colab": {
          "base_uri": "https://localhost:8080/"
        },
        "id": "Ksitk5qcB1fm",
        "outputId": "939be7e7-7854-4520-f822-a39c788a5087"
      },
      "execution_count": 6,
      "outputs": [
        {
          "output_type": "stream",
          "name": "stdout",
          "text": [
            "name: John\n",
            "surname: Doe\n",
            "age: 32\n"
          ]
        }
      ]
    },
    {
      "cell_type": "code",
      "source": [
        "client_data['height'] = 186\n",
        "client_data"
      ],
      "metadata": {
        "colab": {
          "base_uri": "https://localhost:8080/"
        },
        "id": "GpypdceGB3k6",
        "outputId": "cbba4c4f-8fdb-4a37-90de-fbbbbd2ad161"
      },
      "execution_count": 7,
      "outputs": [
        {
          "output_type": "execute_result",
          "data": {
            "text/plain": [
              "{'name': 'John', 'surname': 'Doe', 'age': 32, 'height': 186}"
            ]
          },
          "metadata": {},
          "execution_count": 7
        }
      ]
    },
    {
      "cell_type": "code",
      "source": [
        "client_data['age'] = 14\n",
        "client_data"
      ],
      "metadata": {
        "colab": {
          "base_uri": "https://localhost:8080/"
        },
        "id": "Vf7fObq6B5LP",
        "outputId": "d2a03cbe-754a-4a4b-d6de-504aa55cd8ff"
      },
      "execution_count": 8,
      "outputs": [
        {
          "output_type": "execute_result",
          "data": {
            "text/plain": [
              "{'name': 'John', 'surname': 'Doe', 'age': 14, 'height': 186}"
            ]
          },
          "metadata": {},
          "execution_count": 8
        }
      ]
    },
    {
      "cell_type": "code",
      "source": [
        "client_data = {\n",
        "    'name': 'John',\n",
        "    'surname': 'Doe',\n",
        "    'age': 32\n",
        "}\n",
        "\n",
        "client_data"
      ],
      "metadata": {
        "colab": {
          "base_uri": "https://localhost:8080/"
        },
        "id": "R8S76QGIB7I3",
        "outputId": "839281eb-5578-4155-dec3-dea1be41686a"
      },
      "execution_count": 9,
      "outputs": [
        {
          "output_type": "execute_result",
          "data": {
            "text/plain": [
              "{'name': 'John', 'surname': 'Doe', 'age': 32}"
            ]
          },
          "metadata": {},
          "execution_count": 9
        }
      ]
    },
    {
      "cell_type": "code",
      "source": [
        "client_data.setdefault('age', 14)"
      ],
      "metadata": {
        "colab": {
          "base_uri": "https://localhost:8080/"
        },
        "id": "3KFKG2_5B806",
        "outputId": "27ee3d76-b8ab-48b3-f548-01651e5fc940"
      },
      "execution_count": 10,
      "outputs": [
        {
          "output_type": "execute_result",
          "data": {
            "text/plain": [
              "32"
            ]
          },
          "metadata": {},
          "execution_count": 10
        }
      ]
    },
    {
      "cell_type": "code",
      "source": [
        "client_data"
      ],
      "metadata": {
        "colab": {
          "base_uri": "https://localhost:8080/"
        },
        "id": "66VA2R25B_A-",
        "outputId": "11ca75b8-3554-4d98-d5a6-ab7c2d4a2de5"
      },
      "execution_count": 11,
      "outputs": [
        {
          "output_type": "execute_result",
          "data": {
            "text/plain": [
              "{'name': 'John', 'surname': 'Doe', 'age': 32}"
            ]
          },
          "metadata": {},
          "execution_count": 11
        }
      ]
    },
    {
      "cell_type": "code",
      "source": [
        "client_data.update({\n",
        "    'age': 14\n",
        "})\n",
        "client_data"
      ],
      "metadata": {
        "colab": {
          "base_uri": "https://localhost:8080/"
        },
        "id": "Tv-y_ulbCAvM",
        "outputId": "f7fc9d05-abe1-4f4b-9967-58298d997d74"
      },
      "execution_count": 12,
      "outputs": [
        {
          "output_type": "execute_result",
          "data": {
            "text/plain": [
              "{'name': 'John', 'surname': 'Doe', 'age': 14}"
            ]
          },
          "metadata": {},
          "execution_count": 12
        }
      ]
    },
    {
      "cell_type": "markdown",
      "source": [
        "### Вложенный словарь"
      ],
      "metadata": {
        "id": "YgSc0OWJCC2m"
      }
    },
    {
      "cell_type": "code",
      "source": [
        "client_data.update({\n",
        "    'age': 15,\n",
        "    'body': {\n",
        "        'weight': 80,\n",
        "        'height': 186\n",
        "    }\n",
        "})\n",
        "\n",
        "client_data"
      ],
      "metadata": {
        "colab": {
          "base_uri": "https://localhost:8080/"
        },
        "id": "sVExKggpCGIl",
        "outputId": "817f6b10-2fe3-42de-b3c9-29c701ee42e0"
      },
      "execution_count": 13,
      "outputs": [
        {
          "output_type": "execute_result",
          "data": {
            "text/plain": [
              "{'name': 'John',\n",
              " 'surname': 'Doe',\n",
              " 'age': 15,\n",
              " 'body': {'weight': 80, 'height': 186}}"
            ]
          },
          "metadata": {},
          "execution_count": 13
        }
      ]
    },
    {
      "cell_type": "code",
      "source": [
        "client_data['body']"
      ],
      "metadata": {
        "colab": {
          "base_uri": "https://localhost:8080/"
        },
        "id": "gDn3JvF-CKeH",
        "outputId": "569b980c-c3e8-4cbd-ea3d-df23d8540053"
      },
      "execution_count": 14,
      "outputs": [
        {
          "output_type": "execute_result",
          "data": {
            "text/plain": [
              "{'weight': 80, 'height': 186}"
            ]
          },
          "metadata": {},
          "execution_count": 14
        }
      ]
    },
    {
      "cell_type": "code",
      "source": [
        "client_data['body']['height']"
      ],
      "metadata": {
        "colab": {
          "base_uri": "https://localhost:8080/"
        },
        "id": "CuTA3hWOCM4n",
        "outputId": "97884a07-1a82-4bc2-e0ab-ef834c5ba6fe"
      },
      "execution_count": 15,
      "outputs": [
        {
          "output_type": "execute_result",
          "data": {
            "text/plain": [
              "186"
            ]
          },
          "metadata": {},
          "execution_count": 15
        }
      ]
    },
    {
      "cell_type": "markdown",
      "source": [
        "## Модуль Random\n",
        "Модуль random предоставляет функции для генерации случайных чисел или к примеру, для случайного выбора элементов последовательности."
      ],
      "metadata": {
        "id": "6svKs0QoCPi-"
      }
    },
    {
      "cell_type": "code",
      "source": [
        "import random"
      ],
      "metadata": {
        "id": "X3Qa4Z25CS2m"
      },
      "execution_count": 16,
      "outputs": []
    },
    {
      "cell_type": "code",
      "source": [
        "random.randint(0, 10)"
      ],
      "metadata": {
        "colab": {
          "base_uri": "https://localhost:8080/"
        },
        "id": "poOtOu0hCU-w",
        "outputId": "77e94e50-8621-463b-a785-732942b82542"
      },
      "execution_count": 17,
      "outputs": [
        {
          "output_type": "execute_result",
          "data": {
            "text/plain": [
              "6"
            ]
          },
          "metadata": {},
          "execution_count": 17
        }
      ]
    },
    {
      "cell_type": "code",
      "source": [
        "random.seed(9)\n",
        "random.randint(0, 10)"
      ],
      "metadata": {
        "colab": {
          "base_uri": "https://localhost:8080/"
        },
        "id": "fZTKX-RQCWzM",
        "outputId": "9dcb0e0c-08e7-4b80-8891-c606ed7996e8"
      },
      "execution_count": 18,
      "outputs": [
        {
          "output_type": "execute_result",
          "data": {
            "text/plain": [
              "7"
            ]
          },
          "metadata": {},
          "execution_count": 18
        }
      ]
    },
    {
      "cell_type": "code",
      "source": [
        "random.random()"
      ],
      "metadata": {
        "colab": {
          "base_uri": "https://localhost:8080/"
        },
        "id": "vXqQMkAaCYi4",
        "outputId": "c01f8f58-3a4c-444c-c208-d9df80ef0da6"
      },
      "execution_count": 19,
      "outputs": [
        {
          "output_type": "execute_result",
          "data": {
            "text/plain": [
              "0.6132152331867212"
            ]
          },
          "metadata": {},
          "execution_count": 19
        }
      ]
    },
    {
      "cell_type": "code",
      "source": [
        "random.uniform(0, 10)"
      ],
      "metadata": {
        "colab": {
          "base_uri": "https://localhost:8080/"
        },
        "id": "3SreJaVsCaXV",
        "outputId": "db258ede-6824-46fc-ddce-c2a4893ec292"
      },
      "execution_count": 20,
      "outputs": [
        {
          "output_type": "execute_result",
          "data": {
            "text/plain": [
              "2.671344216059104"
            ]
          },
          "metadata": {},
          "execution_count": 20
        }
      ]
    },
    {
      "cell_type": "code",
      "source": [
        "a = ['black', 'red', 'yellow', 'green']\n",
        "random.sample(a, 2)"
      ],
      "metadata": {
        "colab": {
          "base_uri": "https://localhost:8080/"
        },
        "id": "9Do-O1Y2Cb2Y",
        "outputId": "748969b3-f921-4c71-f48e-30788a839f61"
      },
      "execution_count": 21,
      "outputs": [
        {
          "output_type": "execute_result",
          "data": {
            "text/plain": [
              "['red', 'yellow']"
            ]
          },
          "metadata": {},
          "execution_count": 21
        }
      ]
    },
    {
      "cell_type": "code",
      "source": [
        "random.shuffle(a)\n",
        "a"
      ],
      "metadata": {
        "colab": {
          "base_uri": "https://localhost:8080/"
        },
        "id": "COm2z6TWCdO8",
        "outputId": "a1153d7e-badf-4fb6-80f8-eccc866d7805"
      },
      "execution_count": 22,
      "outputs": [
        {
          "output_type": "execute_result",
          "data": {
            "text/plain": [
              "['green', 'yellow', 'red', 'black']"
            ]
          },
          "metadata": {},
          "execution_count": 22
        }
      ]
    },
    {
      "cell_type": "code",
      "source": [
        "random.choice(a)"
      ],
      "metadata": {
        "colab": {
          "base_uri": "https://localhost:8080/",
          "height": 36
        },
        "id": "4jRNDd_RCeqo",
        "outputId": "654157b4-5d73-4770-cc36-15bc2f7716dc"
      },
      "execution_count": 23,
      "outputs": [
        {
          "output_type": "execute_result",
          "data": {
            "text/plain": [
              "'green'"
            ],
            "application/vnd.google.colaboratory.intrinsic+json": {
              "type": "string"
            }
          },
          "metadata": {},
          "execution_count": 23
        }
      ]
    },
    {
      "cell_type": "markdown",
      "source": [
        "## Функции\n",
        "Функция в python - объект, который принимает аргументы, производит с ними желаемые действия и возвращает значение. Также функция — это фрагмент программного кода, который решает какую-либо задачу. Его можно вызывать в любом месте основной программы. Функции помогают избегать дублирования кода при многократном его использовании.\n",
        "\n",
        "Аргумент функции — значение, которое передается в функцию при её вызове.\n",
        "\n",
        "\n",
        "```\n",
        "# def func(arg1, arg2):\n",
        "    # make magic\n",
        "    result = arg1 + arg2\n",
        "    return result\n",
        "```\n",
        "### Аргументы по позиции и имени\n",
        "Позиционный аргумент - это аргумент, передаваемый в функцию в определенной последовательности (на определенных позициях), без указания их имен\n"
      ],
      "metadata": {
        "id": "1GOVDjaQCilc"
      }
    },
    {
      "cell_type": "code",
      "source": [
        "def calc_sum(a, b):\n",
        "    print(f'a is {a}')\n",
        "    print(f'b is {b}')\n",
        "    result = a + b\n",
        "    return result"
      ],
      "metadata": {
        "id": "B_oKcd5kCgCJ"
      },
      "execution_count": 24,
      "outputs": []
    },
    {
      "cell_type": "code",
      "source": [
        "calc_sum(3, 5)"
      ],
      "metadata": {
        "colab": {
          "base_uri": "https://localhost:8080/"
        },
        "id": "p_TSzXyICy25",
        "outputId": "855f0951-5243-43a2-fb57-70882fac5064"
      },
      "execution_count": 25,
      "outputs": [
        {
          "output_type": "stream",
          "name": "stdout",
          "text": [
            "a is 3\n",
            "b is 5\n"
          ]
        },
        {
          "output_type": "execute_result",
          "data": {
            "text/plain": [
              "8"
            ]
          },
          "metadata": {},
          "execution_count": 25
        }
      ]
    },
    {
      "cell_type": "markdown",
      "source": [
        "### Именованный аргумент - это аргумент, передаваемые в функцию при помощи имени."
      ],
      "metadata": {
        "id": "0n9SHN0NC1_L"
      }
    },
    {
      "cell_type": "code",
      "source": [
        "calc_sum(a=3, b=5)"
      ],
      "metadata": {
        "colab": {
          "base_uri": "https://localhost:8080/"
        },
        "id": "X0Z8lGacC0De",
        "outputId": "9ab5bae9-4309-495b-a878-0a8631d6bfae"
      },
      "execution_count": 26,
      "outputs": [
        {
          "output_type": "stream",
          "name": "stdout",
          "text": [
            "a is 3\n",
            "b is 5\n"
          ]
        },
        {
          "output_type": "execute_result",
          "data": {
            "text/plain": [
              "8"
            ]
          },
          "metadata": {},
          "execution_count": 26
        }
      ]
    },
    {
      "cell_type": "code",
      "source": [
        "calc_sum(b=5, a=3)"
      ],
      "metadata": {
        "colab": {
          "base_uri": "https://localhost:8080/"
        },
        "id": "vTBIGYRbC4dh",
        "outputId": "65c53b80-9736-49b3-d277-17b85afd0095"
      },
      "execution_count": 27,
      "outputs": [
        {
          "output_type": "stream",
          "name": "stdout",
          "text": [
            "a is 3\n",
            "b is 5\n"
          ]
        },
        {
          "output_type": "execute_result",
          "data": {
            "text/plain": [
              "8"
            ]
          },
          "metadata": {},
          "execution_count": 27
        }
      ]
    },
    {
      "cell_type": "code",
      "source": [
        "calc_sum(b=5, 3)"
      ],
      "metadata": {
        "colab": {
          "base_uri": "https://localhost:8080/",
          "height": 140
        },
        "id": "X5oLrADyC6Qg",
        "outputId": "0840e25c-54a1-4015-cab6-d2054f75ed26"
      },
      "execution_count": 28,
      "outputs": [
        {
          "output_type": "error",
          "ename": "SyntaxError",
          "evalue": "ignored",
          "traceback": [
            "\u001b[0;36m  File \u001b[0;32m\"<ipython-input-28-93aa6c5cb30e>\"\u001b[0;36m, line \u001b[0;32m1\u001b[0m\n\u001b[0;31m    calc_sum(b=5, 3)\u001b[0m\n\u001b[0m                   ^\u001b[0m\n\u001b[0;31mSyntaxError\u001b[0m\u001b[0;31m:\u001b[0m positional argument follows keyword argument\n"
          ]
        }
      ]
    },
    {
      "cell_type": "code",
      "source": [
        "calc_sum(3, b=5)"
      ],
      "metadata": {
        "colab": {
          "base_uri": "https://localhost:8080/"
        },
        "id": "NDl7U2bPC7mC",
        "outputId": "c7f513f8-5342-4b3b-e379-8dd8ac042f7a"
      },
      "execution_count": 29,
      "outputs": [
        {
          "output_type": "stream",
          "name": "stdout",
          "text": [
            "a is 3\n",
            "b is 5\n"
          ]
        },
        {
          "output_type": "execute_result",
          "data": {
            "text/plain": [
              "8"
            ]
          },
          "metadata": {},
          "execution_count": 29
        }
      ]
    },
    {
      "cell_type": "markdown",
      "source": [
        "### Аргументы по умолчанию\n",
        "В функцию можно передавать аргументы по умолчанию, это те аргументы, значения которых будут использованы, если не передали им явное значение при вызове."
      ],
      "metadata": {
        "id": "d5jzSxxoDBc0"
      }
    },
    {
      "cell_type": "code",
      "source": [
        "def say_hi(greeting='Hello', name='World'):\n",
        "    return f'{greeting}, {name}'"
      ],
      "metadata": {
        "id": "xV85qKHcC-JW"
      },
      "execution_count": 30,
      "outputs": []
    },
    {
      "cell_type": "code",
      "source": [
        "say_hi()"
      ],
      "metadata": {
        "colab": {
          "base_uri": "https://localhost:8080/",
          "height": 36
        },
        "id": "9zc0XIojDEd0",
        "outputId": "d82c1613-e6f5-4b9b-d69e-96a8b047b731"
      },
      "execution_count": 31,
      "outputs": [
        {
          "output_type": "execute_result",
          "data": {
            "text/plain": [
              "'Hello, World'"
            ],
            "application/vnd.google.colaboratory.intrinsic+json": {
              "type": "string"
            }
          },
          "metadata": {},
          "execution_count": 31
        }
      ]
    },
    {
      "cell_type": "code",
      "source": [
        "def say_hi(greeting, name='World'):\n",
        "    return f'{greeting}, {name}'"
      ],
      "metadata": {
        "id": "8WuTpp0nDGxH"
      },
      "execution_count": 32,
      "outputs": []
    },
    {
      "cell_type": "code",
      "source": [
        "say_hi()"
      ],
      "metadata": {
        "colab": {
          "base_uri": "https://localhost:8080/",
          "height": 175
        },
        "id": "j1BFBSZPDLtL",
        "outputId": "e62d3a79-406d-493c-dd5e-4887e912a73a"
      },
      "execution_count": 33,
      "outputs": [
        {
          "output_type": "error",
          "ename": "TypeError",
          "evalue": "ignored",
          "traceback": [
            "\u001b[0;31m---------------------------------------------------------------------------\u001b[0m",
            "\u001b[0;31mTypeError\u001b[0m                                 Traceback (most recent call last)",
            "\u001b[0;32m<ipython-input-33-6acd93c5568f>\u001b[0m in \u001b[0;36m<cell line: 1>\u001b[0;34m()\u001b[0m\n\u001b[0;32m----> 1\u001b[0;31m \u001b[0msay_hi\u001b[0m\u001b[0;34m(\u001b[0m\u001b[0;34m)\u001b[0m\u001b[0;34m\u001b[0m\u001b[0;34m\u001b[0m\u001b[0m\n\u001b[0m",
            "\u001b[0;31mTypeError\u001b[0m: say_hi() missing 1 required positional argument: 'greeting'"
          ]
        }
      ]
    },
    {
      "cell_type": "code",
      "source": [
        "def say_hi(greeting='Hello', name='World'):\n",
        "    return f'{greeting}, {name}'"
      ],
      "metadata": {
        "id": "gSzzTEoLDUF-"
      },
      "execution_count": 34,
      "outputs": []
    },
    {
      "cell_type": "code",
      "source": [
        "say_hi(greeting='Hey', name='Apple')"
      ],
      "metadata": {
        "colab": {
          "base_uri": "https://localhost:8080/",
          "height": 36
        },
        "id": "6Rr9NgDHDWKq",
        "outputId": "74f0c05b-d379-4267-b566-77bcb0e1d8bd"
      },
      "execution_count": 35,
      "outputs": [
        {
          "output_type": "execute_result",
          "data": {
            "text/plain": [
              "'Hey, Apple'"
            ],
            "application/vnd.google.colaboratory.intrinsic+json": {
              "type": "string"
            }
          },
          "metadata": {},
          "execution_count": 35
        }
      ]
    },
    {
      "cell_type": "markdown",
      "source": [
        "### Аргумент *args\n",
        "*args — это сокращение от «arguments» (аргументы)."
      ],
      "metadata": {
        "id": "zjCKefrwDaNO"
      }
    },
    {
      "cell_type": "code",
      "source": [
        "def calc_sum(a, b, c):\n",
        "    result = a + b + c\n",
        "    return result"
      ],
      "metadata": {
        "id": "GEqi7s27DX8d"
      },
      "execution_count": 36,
      "outputs": []
    },
    {
      "cell_type": "code",
      "source": [
        "def calc_sum(a, b, c, d, e):\n",
        "    result = a + b + c + d + e\n",
        "    return result"
      ],
      "metadata": {
        "id": "G-advNWYDeSk"
      },
      "execution_count": 37,
      "outputs": []
    },
    {
      "cell_type": "code",
      "source": [
        "def calc_sum(*args):\n",
        "    result = sum(args)\n",
        "    return result"
      ],
      "metadata": {
        "id": "QcL1lAW2DgFv"
      },
      "execution_count": 38,
      "outputs": []
    },
    {
      "cell_type": "code",
      "source": [
        "calc_sum(1)"
      ],
      "metadata": {
        "colab": {
          "base_uri": "https://localhost:8080/"
        },
        "id": "FFtCnUblDhko",
        "outputId": "fe602f25-0be8-4b8a-abcd-cb6716a76f9a"
      },
      "execution_count": 39,
      "outputs": [
        {
          "output_type": "execute_result",
          "data": {
            "text/plain": [
              "1"
            ]
          },
          "metadata": {},
          "execution_count": 39
        }
      ]
    },
    {
      "cell_type": "code",
      "source": [
        "calc_sum(10, 0, 5)"
      ],
      "metadata": {
        "colab": {
          "base_uri": "https://localhost:8080/"
        },
        "id": "9BUFYuBBDkt7",
        "outputId": "dbd1dc75-8953-4e1e-c16e-f1b63ce3c35a"
      },
      "execution_count": 40,
      "outputs": [
        {
          "output_type": "execute_result",
          "data": {
            "text/plain": [
              "15"
            ]
          },
          "metadata": {},
          "execution_count": 40
        }
      ]
    },
    {
      "cell_type": "code",
      "source": [
        "def calc_sum(*args):\n",
        "    print(args)\n",
        "    print(type(args))\n",
        "    result = sum(args)\n",
        "    return result"
      ],
      "metadata": {
        "id": "5S6wp3j4DmXB"
      },
      "execution_count": 41,
      "outputs": []
    },
    {
      "cell_type": "code",
      "source": [
        "calc_sum(1, 2, 3)"
      ],
      "metadata": {
        "colab": {
          "base_uri": "https://localhost:8080/"
        },
        "id": "GYeRjvj2DoPJ",
        "outputId": "57b9d3b5-a67d-481b-9643-6dcacb6bd8bf"
      },
      "execution_count": 42,
      "outputs": [
        {
          "output_type": "stream",
          "name": "stdout",
          "text": [
            "(1, 2, 3)\n",
            "<class 'tuple'>\n"
          ]
        },
        {
          "output_type": "execute_result",
          "data": {
            "text/plain": [
              "6"
            ]
          },
          "metadata": {},
          "execution_count": 42
        }
      ]
    },
    {
      "cell_type": "code",
      "source": [
        "def printer(*args):\n",
        "    print(type(args))\n",
        "    print(args)\n",
        "    print()\n",
        "    for i in args:\n",
        "        print(i)"
      ],
      "metadata": {
        "id": "uaQMx_bxDp2u"
      },
      "execution_count": 43,
      "outputs": []
    },
    {
      "cell_type": "code",
      "source": [
        "printer(1, 'text', {'key': 'value'})"
      ],
      "metadata": {
        "colab": {
          "base_uri": "https://localhost:8080/"
        },
        "id": "Vyg_VtqMDrU1",
        "outputId": "b6fb9efe-e277-444f-f80a-f96d8c8043ad"
      },
      "execution_count": 44,
      "outputs": [
        {
          "output_type": "stream",
          "name": "stdout",
          "text": [
            "<class 'tuple'>\n",
            "(1, 'text', {'key': 'value'})\n",
            "\n",
            "1\n",
            "text\n",
            "{'key': 'value'}\n"
          ]
        }
      ]
    },
    {
      "cell_type": "code",
      "source": [
        "names = ['John', 'Nick', 'Bill']\n",
        "printer(names)"
      ],
      "metadata": {
        "colab": {
          "base_uri": "https://localhost:8080/"
        },
        "id": "W5SktWw3Ds46",
        "outputId": "1837dc5e-8f01-498e-8198-f9dff9d79aa4"
      },
      "execution_count": 45,
      "outputs": [
        {
          "output_type": "stream",
          "name": "stdout",
          "text": [
            "<class 'tuple'>\n",
            "(['John', 'Nick', 'Bill'],)\n",
            "\n",
            "['John', 'Nick', 'Bill']\n"
          ]
        }
      ]
    },
    {
      "cell_type": "code",
      "source": [
        "printer(*names)"
      ],
      "metadata": {
        "colab": {
          "base_uri": "https://localhost:8080/"
        },
        "id": "7WW0edn0Du0X",
        "outputId": "5b392470-aaf6-47ed-b58a-e30558eb5a6f"
      },
      "execution_count": 46,
      "outputs": [
        {
          "output_type": "stream",
          "name": "stdout",
          "text": [
            "<class 'tuple'>\n",
            "('John', 'Nick', 'Bill')\n",
            "\n",
            "John\n",
            "Nick\n",
            "Bill\n"
          ]
        }
      ]
    },
    {
      "cell_type": "markdown",
      "source": [
        "## Атрибут **kwargs\n",
        "**kwargs — сокращение от «keyword arguments» (именованные аргументы)."
      ],
      "metadata": {
        "id": "WE72frH0Dyb7"
      }
    },
    {
      "cell_type": "code",
      "source": [
        "def printer(**kwargs):\n",
        "    print(type(kwargs))\n",
        "    print()\n",
        "    for key, value in kwargs.items():\n",
        "        print(f'{key} - {value}')"
      ],
      "metadata": {
        "id": "OKRF-L02DwOB"
      },
      "execution_count": 47,
      "outputs": []
    },
    {
      "cell_type": "code",
      "source": [
        "printer(a=10, b='20')"
      ],
      "metadata": {
        "colab": {
          "base_uri": "https://localhost:8080/"
        },
        "id": "zjpnCRftD2d5",
        "outputId": "7ec5cc26-4be5-4244-df6e-7766e04edbae"
      },
      "execution_count": 48,
      "outputs": [
        {
          "output_type": "stream",
          "name": "stdout",
          "text": [
            "<class 'dict'>\n",
            "\n",
            "a - 10\n",
            "b - 20\n"
          ]
        }
      ]
    },
    {
      "cell_type": "code",
      "source": [
        "def say_hi(**kwargs):\n",
        "    greeting = kwargs.get('greeting', 'Hello')\n",
        "    name = kwargs.get('name', 'World')\n",
        "    return f'{greeting}, {name}'"
      ],
      "metadata": {
        "id": "VpA70CHbD33N"
      },
      "execution_count": 49,
      "outputs": []
    },
    {
      "cell_type": "code",
      "source": [
        "say_hi()"
      ],
      "metadata": {
        "colab": {
          "base_uri": "https://localhost:8080/",
          "height": 36
        },
        "id": "eqk30QneD5oz",
        "outputId": "946e09b1-a2a2-4543-eaa1-c4906dca055b"
      },
      "execution_count": 50,
      "outputs": [
        {
          "output_type": "execute_result",
          "data": {
            "text/plain": [
              "'Hello, World'"
            ],
            "application/vnd.google.colaboratory.intrinsic+json": {
              "type": "string"
            }
          },
          "metadata": {},
          "execution_count": 50
        }
      ]
    },
    {
      "cell_type": "code",
      "source": [
        "say_hi(greeting='Hey', name='John')"
      ],
      "metadata": {
        "colab": {
          "base_uri": "https://localhost:8080/",
          "height": 36
        },
        "id": "BNaqo5buD69G",
        "outputId": "bc3d6352-d0c9-49fc-e1a9-a3dffb1a0b0a"
      },
      "execution_count": 51,
      "outputs": [
        {
          "output_type": "execute_result",
          "data": {
            "text/plain": [
              "'Hey, John'"
            ],
            "application/vnd.google.colaboratory.intrinsic+json": {
              "type": "string"
            }
          },
          "metadata": {},
          "execution_count": 51
        }
      ]
    },
    {
      "cell_type": "code",
      "source": [
        "say_hi(greeting='Hey', name='John', extra=5)"
      ],
      "metadata": {
        "colab": {
          "base_uri": "https://localhost:8080/",
          "height": 36
        },
        "id": "EagS0bXmD8Kx",
        "outputId": "430b5c87-99c0-4c23-ed6d-3e0b517b2f3b"
      },
      "execution_count": 52,
      "outputs": [
        {
          "output_type": "execute_result",
          "data": {
            "text/plain": [
              "'Hey, John'"
            ],
            "application/vnd.google.colaboratory.intrinsic+json": {
              "type": "string"
            }
          },
          "metadata": {},
          "execution_count": 52
        }
      ]
    },
    {
      "cell_type": "code",
      "source": [
        "data = {'greeting': 'Hey',\n",
        "        'name': 'John',\n",
        "        'extra':5}\n",
        "\n",
        "say_hi(**data)"
      ],
      "metadata": {
        "colab": {
          "base_uri": "https://localhost:8080/",
          "height": 36
        },
        "id": "_2csNJRMD9fL",
        "outputId": "68a603de-0452-4d8c-c2ee-732b5b3f1b68"
      },
      "execution_count": 53,
      "outputs": [
        {
          "output_type": "execute_result",
          "data": {
            "text/plain": [
              "'Hey, John'"
            ],
            "application/vnd.google.colaboratory.intrinsic+json": {
              "type": "string"
            }
          },
          "metadata": {},
          "execution_count": 53
        }
      ]
    },
    {
      "cell_type": "markdown",
      "source": [
        "### Аннотирование типов"
      ],
      "metadata": {
        "id": "YE98A54KEBbQ"
      }
    },
    {
      "cell_type": "code",
      "source": [
        "def calc_sum(a: int, b: int) -> int:\n",
        "    return a + b"
      ],
      "metadata": {
        "id": "9BJSQpmdD_Qe"
      },
      "execution_count": 54,
      "outputs": []
    },
    {
      "cell_type": "code",
      "source": [
        "calc_sum(1, 2)"
      ],
      "metadata": {
        "colab": {
          "base_uri": "https://localhost:8080/"
        },
        "id": "nNtzWz8nEDv2",
        "outputId": "32ae3947-83ff-4c93-a63e-b8f0d12d9b0f"
      },
      "execution_count": 55,
      "outputs": [
        {
          "output_type": "execute_result",
          "data": {
            "text/plain": [
              "3"
            ]
          },
          "metadata": {},
          "execution_count": 55
        }
      ]
    },
    {
      "cell_type": "code",
      "source": [
        "calc_sum(1.1, 2.2)"
      ],
      "metadata": {
        "colab": {
          "base_uri": "https://localhost:8080/"
        },
        "id": "zOukjzdgEFD-",
        "outputId": "aeb662e3-d00e-456b-f768-b7d1d4b5f097"
      },
      "execution_count": 56,
      "outputs": [
        {
          "output_type": "execute_result",
          "data": {
            "text/plain": [
              "3.3000000000000003"
            ]
          },
          "metadata": {},
          "execution_count": 56
        }
      ]
    },
    {
      "cell_type": "code",
      "source": [
        "calc_sum('abc', 'dce')"
      ],
      "metadata": {
        "colab": {
          "base_uri": "https://localhost:8080/",
          "height": 36
        },
        "id": "UPV1EOwxEGYQ",
        "outputId": "ad52d040-668d-4432-a0a2-f2f0cd587d2b"
      },
      "execution_count": 57,
      "outputs": [
        {
          "output_type": "execute_result",
          "data": {
            "text/plain": [
              "'abcdce'"
            ],
            "application/vnd.google.colaboratory.intrinsic+json": {
              "type": "string"
            }
          },
          "metadata": {},
          "execution_count": 57
        }
      ]
    },
    {
      "cell_type": "markdown",
      "source": [
        "## Генераторы\n",
        "Генератор - это объект, который сразу при создании не вычисляет значения всех своих элементов.\n",
        "\n",
        "Генератор хранит в памяти:\n",
        "\n",
        "последний вычисленный элемент\n",
        "\n",
        "правило перехода к следующему\n",
        "\n",
        "условие, при котором выполнение прерывается\n",
        "\n",
        "Вычисление следующего значения происходит лишь при выполнении метода next(). Предыдущее значение при этом теряется. Этим генераторы отличаются от списков, ведь списки хранят в памяти все свои элементы, и удалить их можно только программно. Вычисления с помощью генераторов экономят память."
      ],
      "metadata": {
        "id": "UI-MTFXaEKGz"
      }
    },
    {
      "cell_type": "code",
      "source": [
        "def my_range(start, end):\n",
        "    current = start\n",
        "    while current < end:\n",
        "        yield current\n",
        "        current += 1"
      ],
      "metadata": {
        "id": "y-2RXGh0Egyu"
      },
      "execution_count": 60,
      "outputs": []
    },
    {
      "cell_type": "markdown",
      "source": [
        "Оператор yield приостанавливает функцию и сохраняет локальное состояние, чтобы его можно было возобновить с того места, где оно было остановлено."
      ],
      "metadata": {
        "id": "HF1-hL_PEa1e"
      }
    },
    {
      "cell_type": "code",
      "source": [
        "ranger = my_range(0, 2)\n",
        "ranger"
      ],
      "metadata": {
        "colab": {
          "base_uri": "https://localhost:8080/"
        },
        "id": "HRU4e-0uEHjY",
        "outputId": "72747b8b-22b1-4f78-e3be-8b4606257140"
      },
      "execution_count": 62,
      "outputs": [
        {
          "output_type": "execute_result",
          "data": {
            "text/plain": [
              "<generator object my_range at 0x7b597fafd150>"
            ]
          },
          "metadata": {},
          "execution_count": 62
        }
      ]
    },
    {
      "cell_type": "code",
      "source": [
        "next(ranger)"
      ],
      "metadata": {
        "colab": {
          "base_uri": "https://localhost:8080/"
        },
        "id": "sElXnhL2Ec9W",
        "outputId": "80b4f775-3692-4f82-9eeb-39f69648603e"
      },
      "execution_count": 63,
      "outputs": [
        {
          "output_type": "execute_result",
          "data": {
            "text/plain": [
              "0"
            ]
          },
          "metadata": {},
          "execution_count": 63
        }
      ]
    },
    {
      "cell_type": "code",
      "source": [
        "next(ranger)"
      ],
      "metadata": {
        "colab": {
          "base_uri": "https://localhost:8080/"
        },
        "id": "-MafKguiEl5J",
        "outputId": "475a9d70-5781-48fd-ed18-98c6c8aa6bff"
      },
      "execution_count": 64,
      "outputs": [
        {
          "output_type": "execute_result",
          "data": {
            "text/plain": [
              "1"
            ]
          },
          "metadata": {},
          "execution_count": 64
        }
      ]
    },
    {
      "cell_type": "code",
      "source": [
        "next(ranger)"
      ],
      "metadata": {
        "colab": {
          "base_uri": "https://localhost:8080/",
          "height": 175
        },
        "id": "oK2mIVnjEnzq",
        "outputId": "5293bc2a-30b9-4f2d-e17b-7328b8558d32"
      },
      "execution_count": 65,
      "outputs": [
        {
          "output_type": "error",
          "ename": "StopIteration",
          "evalue": "ignored",
          "traceback": [
            "\u001b[0;31m---------------------------------------------------------------------------\u001b[0m",
            "\u001b[0;31mStopIteration\u001b[0m                             Traceback (most recent call last)",
            "\u001b[0;32m<ipython-input-65-c186e1cb4ee7>\u001b[0m in \u001b[0;36m<cell line: 1>\u001b[0;34m()\u001b[0m\n\u001b[0;32m----> 1\u001b[0;31m \u001b[0mnext\u001b[0m\u001b[0;34m(\u001b[0m\u001b[0mranger\u001b[0m\u001b[0;34m)\u001b[0m\u001b[0;34m\u001b[0m\u001b[0;34m\u001b[0m\u001b[0m\n\u001b[0m",
            "\u001b[0;31mStopIteration\u001b[0m: "
          ]
        }
      ]
    },
    {
      "cell_type": "code",
      "source": [
        "gen_a = my_range(2, 5)\n",
        "for i in gen_a:\n",
        "    print(i)"
      ],
      "metadata": {
        "colab": {
          "base_uri": "https://localhost:8080/"
        },
        "id": "GR53nAsKEqOH",
        "outputId": "3d13e199-9cae-4521-83ca-1f1119c9e045"
      },
      "execution_count": 66,
      "outputs": [
        {
          "output_type": "stream",
          "name": "stdout",
          "text": [
            "2\n",
            "3\n",
            "4\n"
          ]
        }
      ]
    },
    {
      "cell_type": "code",
      "source": [
        "for i in gen_a:\n",
        "    print(i)"
      ],
      "metadata": {
        "id": "r9SRVMeJErnz"
      },
      "execution_count": 67,
      "outputs": []
    },
    {
      "cell_type": "markdown",
      "source": [
        "### list comprehensions"
      ],
      "metadata": {
        "id": "EMyoLk3LEur1"
      }
    },
    {
      "cell_type": "code",
      "source": [
        "squares = []\n",
        "for i in range(5):\n",
        "    squares.append(i * i)\n",
        "squares"
      ],
      "metadata": {
        "colab": {
          "base_uri": "https://localhost:8080/"
        },
        "id": "ioWPS0-uEs12",
        "outputId": "3470a729-21e6-4575-d04b-7ce0195611b6"
      },
      "execution_count": 68,
      "outputs": [
        {
          "output_type": "execute_result",
          "data": {
            "text/plain": [
              "[0, 1, 4, 9, 16]"
            ]
          },
          "metadata": {},
          "execution_count": 68
        }
      ]
    },
    {
      "cell_type": "code",
      "source": [
        "squares = [i * i for i in range(5)]\n",
        "squares"
      ],
      "metadata": {
        "colab": {
          "base_uri": "https://localhost:8080/"
        },
        "id": "6Up7HKSUExAP",
        "outputId": "2f4bd3ee-0dda-42c6-d39c-94792b342f07"
      },
      "execution_count": 69,
      "outputs": [
        {
          "output_type": "execute_result",
          "data": {
            "text/plain": [
              "[0, 1, 4, 9, 16]"
            ]
          },
          "metadata": {},
          "execution_count": 69
        }
      ]
    },
    {
      "cell_type": "code",
      "source": [
        "even_nums = []\n",
        "for i in range(10):\n",
        "    if i % 2 == 0:\n",
        "        even_nums.append(i)\n",
        "\n",
        "even_nums"
      ],
      "metadata": {
        "colab": {
          "base_uri": "https://localhost:8080/"
        },
        "id": "1_WKn12SEyU2",
        "outputId": "9b56fb5e-5566-4c5b-ebf6-55e54271652d"
      },
      "execution_count": 70,
      "outputs": [
        {
          "output_type": "execute_result",
          "data": {
            "text/plain": [
              "[0, 2, 4, 6, 8]"
            ]
          },
          "metadata": {},
          "execution_count": 70
        }
      ]
    },
    {
      "cell_type": "code",
      "source": [
        "even_nums = [i for i in range(10) if i % 2 == 0]\n",
        "even_nums"
      ],
      "metadata": {
        "colab": {
          "base_uri": "https://localhost:8080/"
        },
        "id": "w6-_8nG4E0Um",
        "outputId": "658cf157-41a2-47c4-8d3c-ac2ec6c57d09"
      },
      "execution_count": 71,
      "outputs": [
        {
          "output_type": "execute_result",
          "data": {
            "text/plain": [
              "[0, 2, 4, 6, 8]"
            ]
          },
          "metadata": {},
          "execution_count": 71
        }
      ]
    },
    {
      "cell_type": "code",
      "source": [
        "orig_prices = [125, -9, 103, 38, -5, 116]\n",
        "prices = [i if i > 0 else 0 for i in orig_prices]\n",
        "prices\n"
      ],
      "metadata": {
        "colab": {
          "base_uri": "https://localhost:8080/"
        },
        "id": "-4ELFAPuE1nb",
        "outputId": "e029f9b9-b05d-478a-b37b-c92345c75e99"
      },
      "execution_count": 72,
      "outputs": [
        {
          "output_type": "execute_result",
          "data": {
            "text/plain": [
              "[125, 0, 103, 38, 0, 116]"
            ]
          },
          "metadata": {},
          "execution_count": 72
        }
      ]
    },
    {
      "cell_type": "code",
      "source": [
        "def get_price(price):\n",
        "    return price if price > 0 else 0\n",
        "\n",
        "\n",
        "prices = [get_price(i) for i in orig_prices]\n",
        "prices"
      ],
      "metadata": {
        "colab": {
          "base_uri": "https://localhost:8080/"
        },
        "id": "bDFPPocdE24d",
        "outputId": "85020fc1-03b2-4be7-c77a-00e9583566bc"
      },
      "execution_count": 73,
      "outputs": [
        {
          "output_type": "execute_result",
          "data": {
            "text/plain": [
              "[125, 0, 103, 38, 0, 116]"
            ]
          },
          "metadata": {},
          "execution_count": 73
        }
      ]
    },
    {
      "cell_type": "markdown",
      "source": [
        "### set comprehensions"
      ],
      "metadata": {
        "id": "Z-JN8uQjE5lz"
      }
    },
    {
      "cell_type": "code",
      "source": [
        "numbers = ['black', 'red', 'green', 'green', 'red', 'green']\n",
        "{i for i in numbers}"
      ],
      "metadata": {
        "colab": {
          "base_uri": "https://localhost:8080/"
        },
        "id": "HOS98zKKE4GB",
        "outputId": "34671f55-ba17-459f-ceb3-2f764de1525e"
      },
      "execution_count": 74,
      "outputs": [
        {
          "output_type": "execute_result",
          "data": {
            "text/plain": [
              "{'black', 'green', 'red'}"
            ]
          },
          "metadata": {},
          "execution_count": 74
        }
      ]
    },
    {
      "cell_type": "markdown",
      "source": [
        "### dict comprehensions"
      ],
      "metadata": {
        "id": "_iRUK__9E9ug"
      }
    },
    {
      "cell_type": "code",
      "source": [
        "squares_dict = {i: i * i for i in range(5)}\n",
        "squares_dict"
      ],
      "metadata": {
        "colab": {
          "base_uri": "https://localhost:8080/"
        },
        "id": "WdLuZF4kE7qy",
        "outputId": "be39646b-6b0b-4701-d8b1-52a3c7c3b90b"
      },
      "execution_count": 75,
      "outputs": [
        {
          "output_type": "execute_result",
          "data": {
            "text/plain": [
              "{0: 0, 1: 1, 2: 4, 3: 9, 4: 16}"
            ]
          },
          "metadata": {},
          "execution_count": 75
        }
      ]
    },
    {
      "cell_type": "code",
      "source": [
        "%%time\n",
        "\n",
        "even_nums = []\n",
        "for i in range(100_000_000):\n",
        "    if i % 2 == 0:\n",
        "        even_nums.append(i)"
      ],
      "metadata": {
        "colab": {
          "base_uri": "https://localhost:8080/"
        },
        "id": "F3xURQHsE_jY",
        "outputId": "ef869b94-8265-4086-dab6-c220704a17ab"
      },
      "execution_count": 76,
      "outputs": [
        {
          "output_type": "stream",
          "name": "stdout",
          "text": [
            "CPU times: user 8.39 s, sys: 430 ms, total: 8.82 s\n",
            "Wall time: 9.13 s\n"
          ]
        }
      ]
    },
    {
      "cell_type": "code",
      "source": [
        "%%time\n",
        "even_nums = [i for i in range(100_000_000) if i % 2 == 0]"
      ],
      "metadata": {
        "colab": {
          "base_uri": "https://localhost:8080/"
        },
        "id": "mZac8SXgFBBc",
        "outputId": "154a2983-a934-40aa-f6fd-2460f1696458"
      },
      "execution_count": 77,
      "outputs": [
        {
          "output_type": "stream",
          "name": "stdout",
          "text": [
            "CPU times: user 4.21 s, sys: 457 ms, total: 4.66 s\n",
            "Wall time: 4.68 s\n"
          ]
        }
      ]
    },
    {
      "cell_type": "code",
      "source": [],
      "metadata": {
        "id": "tRqwWnruFCpt"
      },
      "execution_count": null,
      "outputs": []
    }
  ]
}