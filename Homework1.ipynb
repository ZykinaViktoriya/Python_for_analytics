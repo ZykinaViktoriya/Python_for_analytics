{
  "nbformat": 4,
  "nbformat_minor": 0,
  "metadata": {
    "colab": {
      "provenance": [],
      "authorship_tag": "ABX9TyMk3rFTOjP7Ti27BFj7lSdJ",
      "include_colab_link": true
    },
    "kernelspec": {
      "name": "python3",
      "display_name": "Python 3"
    },
    "language_info": {
      "name": "python"
    }
  },
  "cells": [
    {
      "cell_type": "markdown",
      "metadata": {
        "id": "view-in-github",
        "colab_type": "text"
      },
      "source": [
        "<a href=\"https://colab.research.google.com/github/ZykinaViktoriya/Python_for_analytics/blob/main/Homework1.ipynb\" target=\"_parent\"><img src=\"https://colab.research.google.com/assets/colab-badge.svg\" alt=\"Open In Colab\"/></a>"
      ]
    },
    {
      "cell_type": "markdown",
      "source": [
        "## Задача 1"
      ],
      "metadata": {
        "id": "K4n2UBjUrUw9"
      }
    },
    {
      "cell_type": "markdown",
      "source": [
        "На складе лежат разные фрукты в разном количестве.\n",
        "Нужно написать функцию, которая на вход принимает любое количество названий фруктов и их количество, а возвращает общее количество фруктов на складе"
      ],
      "metadata": {
        "id": "vnP6_vx-rS1A"
      }
    },
    {
      "cell_type": "code",
      "source": [
        "def total_fruits(**kwargs):\n",
        "  for name, values in kwargs.items():\n",
        "    return sum(kwargs.values())\n"
      ],
      "metadata": {
        "id": "fr3MTPqorkj5"
      },
      "execution_count": null,
      "outputs": []
    },
    {
      "cell_type": "code",
      "source": [
        "total_fruits(apple = 30, orange = 45, lemon = 13)\n"
      ],
      "metadata": {
        "colab": {
          "base_uri": "https://localhost:8080/"
        },
        "id": "LXFF0U76u0ez",
        "outputId": "63077979-50a7-48ec-c112-e4f9aeea97ea"
      },
      "execution_count": null,
      "outputs": [
        {
          "output_type": "execute_result",
          "data": {
            "text/plain": [
              "88"
            ]
          },
          "metadata": {},
          "execution_count": 11
        }
      ]
    },
    {
      "cell_type": "markdown",
      "source": [
        "## Задача 2"
      ],
      "metadata": {
        "id": "lcOYI22NwfQB"
      }
    },
    {
      "cell_type": "markdown",
      "source": [
        "Дан список с затратами на рекламу. Но в данных есть ошибки, некоторые затраты имеют отрицательную величину.\n",
        "\n",
        "Удалите такие значения из списка и посчитайте суммарные затраты\n",
        "\n",
        "Используйте list comprehensions"
      ],
      "metadata": {
        "id": "4S84HamJwkcI"
      }
    },
    {
      "cell_type": "code",
      "source": [
        "expenses = [100, 125, -90, 345, 655, -1, 0, 200]"
      ],
      "metadata": {
        "id": "Lkcm0jFGwh5D"
      },
      "execution_count": 1,
      "outputs": []
    },
    {
      "cell_type": "code",
      "source": [
        "expenses_new = [i if i > 0 else 0 for i in expenses]\n",
        "print(expenses_new)\n",
        "print(sum(expenses_new))"
      ],
      "metadata": {
        "id": "J2n4GpG5xJH_",
        "colab": {
          "base_uri": "https://localhost:8080/"
        },
        "outputId": "4173f7bb-78f2-470e-b9bb-0a213c6990aa"
      },
      "execution_count": 5,
      "outputs": [
        {
          "output_type": "stream",
          "name": "stdout",
          "text": [
            "[100, 125, 0, 345, 655, 0, 0, 200]\n",
            "1425\n"
          ]
        }
      ]
    },
    {
      "cell_type": "markdown",
      "source": [
        "## Задача 3"
      ],
      "metadata": {
        "id": "8IfhvOfCTbPS"
      }
    },
    {
      "cell_type": "markdown",
      "source": [
        "Даны два списка.\n",
        "\n",
        "Дата покупки"
      ],
      "metadata": {
        "id": "ERYcbqANTfv5"
      }
    },
    {
      "cell_type": "code",
      "source": [
        "date_buy = ['2021-09-14', '2021-12-15', '2021-09-08', '2021-12-05', '2021-10-09', '2021-09-30', '2021-12-22', '2021-11-29', '2021-12-24', '2021-11-26', '2021-10-27', '2021-12-18', '2021-11-09', '2021-11-23', '2021-09-27', '2021-10-02', '2021-12-27', '2021-09-20', '2021-12-13', '2021-11-01', '2021-11-09', '2021-12-06', '2021-12-08', '2021-10-09', '2021-10-31', '2021-09-30', '2021-11-09', '2021-12-13', '2021-10-26', '2021-12-09']\n"
      ],
      "metadata": {
        "id": "VDXfmn1MTg-e"
      },
      "execution_count": 10,
      "outputs": []
    },
    {
      "cell_type": "markdown",
      "source": [
        "Суммы покупок по датам"
      ],
      "metadata": {
        "id": "cMzQwLixTnNe"
      }
    },
    {
      "cell_type": "code",
      "source": [
        "sum_buy = [1270, 8413, 9028, 3703, 5739, 4095, 295, 4944, 5723, 3701, 4471, 651, 7037, 4274, 6275, 4988, 6930, 2971, 6592, 2004, 2822, 519, 3406, 2732, 5015, 2008, 316, 6333, 5700, 2887]"
      ],
      "metadata": {
        "id": "h6VLThr8S8lu"
      },
      "execution_count": 11,
      "outputs": []
    },
    {
      "cell_type": "markdown",
      "source": [
        "### 3.1 Найдите, какая выручка у компании в ноябре Используйте list comprehensions"
      ],
      "metadata": {
        "id": "11qVifLATwvN"
      }
    },
    {
      "cell_type": "code",
      "source": [
        "list_Month = [i.split('-')[1] for i in date_buy]\n",
        "list_Month"
      ],
      "metadata": {
        "id": "-8zfAn6OW4LI"
      },
      "execution_count": null,
      "outputs": []
    },
    {
      "cell_type": "code",
      "source": [
        "November_Revenue = [(f'Месяц {list_Month[i]}', f'выручка {sum_buy[j]}')\n",
        "                          for i in range(len(list_Month))\n",
        "                          for j in range(len(sum_buy))\n",
        "                          if i == j and list_Month[i] == '11']\n",
        "print(November_Revenue)\n",
        "print(November_Revenue[0][0], sum([amount for dates, amount in zip(date_buy, sum_buy) if dates[5:7] == \"11\"]))\n"
      ],
      "metadata": {
        "colab": {
          "base_uri": "https://localhost:8080/"
        },
        "id": "GUsULfMYXTA1",
        "outputId": "2c1fa682-66d6-4ad5-82f0-d346b992e74b"
      },
      "execution_count": 24,
      "outputs": [
        {
          "output_type": "stream",
          "name": "stdout",
          "text": [
            "[('Месяц 11', 'выручка 4944'), ('Месяц 11', 'выручка 3701'), ('Месяц 11', 'выручка 7037'), ('Месяц 11', 'выручка 4274'), ('Месяц 11', 'выручка 2004'), ('Месяц 11', 'выручка 2822'), ('Месяц 11', 'выручка 316')]\n",
            "Месяц 11 25098\n"
          ]
        }
      ]
    },
    {
      "cell_type": "markdown",
      "source": [
        "### 3.2 Найдите выручку компании в зависимости от месяца\n",
        "Для этого напишите функцию, которая на вход принимает список с датами и список с выручкой, а на выходе словарь, где ключи - это месяцы, а значения - это выручка.\n",
        "Используйте аннотирование типов."
      ],
      "metadata": {
        "id": "-84kZ0cIUpa7"
      }
    },
    {
      "cell_type": "code",
      "source": [
        "def sum_month(date: list, money: list) -> dict:\n",
        "    res = {}\n",
        "    for d, m in zip(date, money):\n",
        "        if d[5:7] in res.keys():\n",
        "            res[d[5:7]] = res[d[5:7]] + m\n",
        "        else:\n",
        "            res[d[5:7]] = m\n",
        "    return res\n",
        "\n",
        "print(sum_month(date_buy, sum_buy))"
      ],
      "metadata": {
        "colab": {
          "base_uri": "https://localhost:8080/"
        },
        "id": "gz1nE2ETaxcV",
        "outputId": "f3249c0e-ba2c-4034-9c04-405c00c6cf6b"
      },
      "execution_count": 31,
      "outputs": [
        {
          "output_type": "stream",
          "name": "stdout",
          "text": [
            "{'09': 25647, '12': 45452, '10': 28645, '11': 25098}\n"
          ]
        }
      ]
    },
    {
      "cell_type": "code",
      "source": [],
      "metadata": {
        "id": "s1eR6KUSWF_N"
      },
      "execution_count": null,
      "outputs": []
    }
  ]
}