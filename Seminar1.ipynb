{
  "cells": [
    {
      "cell_type": "markdown",
      "metadata": {
        "id": "view-in-github",
        "colab_type": "text"
      },
      "source": [
        "<a href=\"https://colab.research.google.com/github/ZykinaViktoriya/Python_for_analytics/blob/main/seminar1.ipynb\" target=\"_parent\"><img src=\"https://colab.research.google.com/assets/colab-badge.svg\" alt=\"Open In Colab\"/></a>"
      ]
    },
    {
      "cell_type": "markdown",
      "id": "b4b345ef-e9e6-4bf5-a234-c2d5690b8500",
      "metadata": {
        "id": "b4b345ef-e9e6-4bf5-a234-c2d5690b8500"
      },
      "source": [
        "## Задача1"
      ]
    },
    {
      "cell_type": "markdown",
      "id": "49ae1ce9-82fe-4103-bcc8-b435a1dce949",
      "metadata": {
        "id": "49ae1ce9-82fe-4103-bcc8-b435a1dce949"
      },
      "source": [
        "### 1.1 Соедините два словаря в один"
      ]
    },
    {
      "cell_type": "code",
      "execution_count": null,
      "id": "7702cae9-7bb6-41fc-b921-4ddeee5656c4",
      "metadata": {
        "id": "7702cae9-7bb6-41fc-b921-4ddeee5656c4"
      },
      "outputs": [],
      "source": [
        "dict1 = {'One': 1, 'Two': 2, 'Three': 3}\n",
        "dict2 = {'Four': 4, 'Five': 5, 'Six': 6}"
      ]
    },
    {
      "cell_type": "code",
      "execution_count": null,
      "id": "e2e5185d-e26e-422e-a9e1-af3bd19fed16",
      "metadata": {
        "id": "e2e5185d-e26e-422e-a9e1-af3bd19fed16",
        "outputId": "d3f36915-dceb-44c3-8ee7-ed719ea1a97b"
      },
      "outputs": [
        {
          "data": {
            "text/plain": [
              "{'One': 1, 'Two': 2, 'Three': 3, 'Four': 4, 'Five': 5, 'Six': 6}"
            ]
          },
          "execution_count": 4,
          "metadata": {},
          "output_type": "execute_result"
        }
      ],
      "source": [
        "dict4 = dict1 | dict2\n",
        "dict4"
      ]
    },
    {
      "cell_type": "code",
      "execution_count": null,
      "id": "b666e0e3-199a-4070-afcd-0ade273a3bfe",
      "metadata": {
        "id": "b666e0e3-199a-4070-afcd-0ade273a3bfe",
        "outputId": "627d59f3-37f8-4841-d281-f92cdea18cd8"
      },
      "outputs": [
        {
          "data": {
            "text/plain": [
              "{'One': 1, 'Two': 2, 'Three': 3, 'Four': 4, 'Five': 5, 'Six': 6}"
            ]
          },
          "execution_count": 6,
          "metadata": {},
          "output_type": "execute_result"
        }
      ],
      "source": [
        "dict5 = {**dict1, **dict2}\n",
        "dict5"
      ]
    },
    {
      "cell_type": "code",
      "execution_count": null,
      "id": "92118fe5-ba01-4a9d-9831-241dcc201d79",
      "metadata": {
        "id": "92118fe5-ba01-4a9d-9831-241dcc201d79",
        "outputId": "6ea67584-a2b3-43c4-c76e-53165441539a"
      },
      "outputs": [
        {
          "data": {
            "text/plain": [
              "{'One': 1, 'Two': 2, 'Three': 3, 'Four': 4, 'Five': 5, 'Six': 6}"
            ]
          },
          "execution_count": 8,
          "metadata": {},
          "output_type": "execute_result"
        }
      ],
      "source": [
        "dict1.update(dict2)\n",
        "dict1"
      ]
    },
    {
      "cell_type": "markdown",
      "id": "86130f01-6340-4805-a926-17af0072934d",
      "metadata": {
        "id": "86130f01-6340-4805-a926-17af0072934d"
      },
      "source": [
        "### 1.2 Напишите функцию, которая на вход принимает два словаря и возвращает один объединенный словарь\n"
      ]
    },
    {
      "cell_type": "code",
      "execution_count": null,
      "id": "8beb86c0-d117-4557-8c33-6edafa87d400",
      "metadata": {
        "id": "8beb86c0-d117-4557-8c33-6edafa87d400"
      },
      "outputs": [],
      "source": [
        "def merge1(dict1: dict, dict2: dict) -> dict:\n",
        "    # print(dict2.items())\n",
        "    # print(list(dict2.items()))\n",
        "    for key, value in dict2.items():\n",
        "        dict1[key] = value\n",
        "    return dict1"
      ]
    },
    {
      "cell_type": "code",
      "execution_count": null,
      "id": "87b272d2-1d79-4dff-b253-c5e4646b2ac6",
      "metadata": {
        "id": "87b272d2-1d79-4dff-b253-c5e4646b2ac6",
        "outputId": "c068dd79-ee37-4a6b-f064-d32c53918cb7"
      },
      "outputs": [
        {
          "name": "stdout",
          "output_type": "stream",
          "text": [
            "{'One': 1, 'Two': 2, 'Three': 3, 'Four': 4, 'Five': 5, 'Six': 6}\n"
          ]
        }
      ],
      "source": [
        "print(merge(dict1, dict2))"
      ]
    },
    {
      "cell_type": "code",
      "execution_count": null,
      "id": "79e561f0-d29c-40c5-96fa-f3a058137ee6",
      "metadata": {
        "id": "79e561f0-d29c-40c5-96fa-f3a058137ee6"
      },
      "outputs": [],
      "source": [
        "def merge(a: dict,b: dict) -> dict:\n",
        "    dict3 = a | b\n",
        "    return dict3"
      ]
    },
    {
      "cell_type": "code",
      "execution_count": null,
      "id": "feda6578-6798-439a-bc3c-0e5d0c291466",
      "metadata": {
        "id": "feda6578-6798-439a-bc3c-0e5d0c291466",
        "outputId": "5a7f154a-2c50-4935-b40e-6cb81af99528"
      },
      "outputs": [
        {
          "name": "stdout",
          "output_type": "stream",
          "text": [
            "{'One': 1, 'Two': 2, 'Three': 3, 'Four': 4, 'Five': 5, 'Six': 6}\n"
          ]
        }
      ],
      "source": [
        "print(merge1(dict1, dict2))"
      ]
    },
    {
      "cell_type": "markdown",
      "id": "067684a8-ff15-4fe2-b001-3a6f82dd45eb",
      "metadata": {
        "id": "067684a8-ff15-4fe2-b001-3a6f82dd45eb"
      },
      "source": [
        "## Задача 2"
      ]
    },
    {
      "cell_type": "markdown",
      "id": "5b0bd9da-dea3-4561-80c0-22d2fef7e450",
      "metadata": {
        "id": "5b0bd9da-dea3-4561-80c0-22d2fef7e450"
      },
      "source": [
        "## Напишите функцию, которая из двух списков, делает один словарь, где элементы из первого списка - ключи, а элементы из второго списка - значения"
      ]
    },
    {
      "cell_type": "markdown",
      "id": "462afeed-2ec7-4897-a6e7-4ecbf2a9fe70",
      "metadata": {
        "id": "462afeed-2ec7-4897-a6e7-4ecbf2a9fe70"
      },
      "source": [
        "### 2.1 Используя цикл for"
      ]
    },
    {
      "cell_type": "code",
      "execution_count": null,
      "id": "c28cecac-225f-4a08-a8b8-952b23ffad46",
      "metadata": {
        "id": "c28cecac-225f-4a08-a8b8-952b23ffad46"
      },
      "outputs": [],
      "source": [
        "keys = ['One', 'Two', 'Three']\n",
        "values = [1, 2, 3]"
      ]
    },
    {
      "cell_type": "code",
      "execution_count": null,
      "id": "e114605a-de39-42ec-aed1-cd90279814cb",
      "metadata": {
        "id": "e114605a-de39-42ec-aed1-cd90279814cb"
      },
      "outputs": [],
      "source": [
        "def dict():\n",
        "    new_dict = {}\n",
        "    for i in range(len(keys)):\n",
        "        new_dict[keys[i]] = values[i]\n",
        "    return new_dict\n",
        ""
      ]
    },
    {
      "cell_type": "code",
      "execution_count": null,
      "id": "011cf6bd-8756-4c83-8700-cbb9ce28e50a",
      "metadata": {
        "id": "011cf6bd-8756-4c83-8700-cbb9ce28e50a",
        "outputId": "845c6b44-fccd-4de8-d923-43ef6790e781"
      },
      "outputs": [
        {
          "data": {
            "text/plain": [
              "{'One': 1, 'Two': 2, 'Three': 3}"
            ]
          },
          "execution_count": 26,
          "metadata": {},
          "output_type": "execute_result"
        }
      ],
      "source": [
        "dict()"
      ]
    },
    {
      "cell_type": "markdown",
      "id": "311b4dee-b409-405a-a423-8cf7c9ae635a",
      "metadata": {
        "id": "311b4dee-b409-405a-a423-8cf7c9ae635a"
      },
      "source": [
        "### 2.2 Используя dict comprehensions"
      ]
    },
    {
      "cell_type": "code",
      "execution_count": null,
      "id": "eae02cd7-4f3d-4384-921a-53c8469169c6",
      "metadata": {
        "id": "eae02cd7-4f3d-4384-921a-53c8469169c6"
      },
      "outputs": [],
      "source": [
        "keys = ['One', 'Two', 'Three']\n",
        "values = [1, 2, 3]"
      ]
    },
    {
      "cell_type": "code",
      "execution_count": null,
      "id": "41215f58-7113-46b0-9225-5a511872a6fe",
      "metadata": {
        "id": "41215f58-7113-46b0-9225-5a511872a6fe",
        "outputId": "fe3b13fa-413a-40cc-c042-1fabcbbd8c25"
      },
      "outputs": [
        {
          "data": {
            "text/plain": [
              "{'One': 1, 'Two': 2, 'Three': 3}"
            ]
          },
          "execution_count": 32,
          "metadata": {},
          "output_type": "execute_result"
        }
      ],
      "source": [
        "dic_c = {keys[i]: values[i] for i in range(len(keys))}\n",
        "dic_c"
      ]
    },
    {
      "cell_type": "markdown",
      "id": "c1f6ce94-13e1-4719-8a41-6a18c54d6156",
      "metadata": {
        "id": "c1f6ce94-13e1-4719-8a41-6a18c54d6156"
      },
      "source": [
        "## Задача 3я"
      ]
    },
    {
      "cell_type": "markdown",
      "id": "60e83f84-baff-4c32-8ead-f1566083c123",
      "metadata": {
        "id": "60e83f84-baff-4c32-8ead-f1566083c123"
      },
      "source": [
        "### Извлеките только два ключа name и age из представленного словаря"
      ]
    },
    {
      "cell_type": "code",
      "execution_count": null,
      "id": "a1f78472-4928-41a2-824e-cbbcd8c3a5ad",
      "metadata": {
        "id": "a1f78472-4928-41a2-824e-cbbcd8c3a5ad"
      },
      "outputs": [],
      "source": [
        "client_dict = {\"name\": \"John\", \"age\": 25, \"salary\": 5000, \"city\": \"Moscow\"}"
      ]
    },
    {
      "cell_type": "markdown",
      "id": "0fbb154e-10c9-4c6e-93b1-d34d0e496e68",
      "metadata": {
        "id": "0fbb154e-10c9-4c6e-93b1-d34d0e496e68"
      },
      "source": [
        "### 3.1 Напишите функцию с циклом for\n",
        "\n",
        "Функция на вход принимает:\n",
        "\n",
        "исходный словарь\n",
        "\n",
        "ключи, которые нужно извлечь (аргумент по\n",
        "умолчанию)\n",
        "\n",
        "На выходе словарь с нужными ключами\n"
      ]
    },
    {
      "cell_type": "code",
      "execution_count": null,
      "id": "abc2f15f-e865-4f57-b421-1cef9debb3fe",
      "metadata": {
        "id": "abc2f15f-e865-4f57-b421-1cef9debb3fe",
        "outputId": "b872c1d1-6d84-4d95-ae30-35f28fe73b94"
      },
      "outputs": [
        {
          "data": {
            "text/plain": [
              "{'name': 'John', 'age': 25}"
            ]
          },
          "execution_count": 37,
          "metadata": {},
          "output_type": "execute_result"
        }
      ],
      "source": [
        "client_dict = {\"name\": \"John\", \"age\": 25, \"salary\": 5000, \"city\": \"Moscow\"}\n",
        "\n",
        "def find_keys(d: dict, keys: list = ['name', 'age']) -> dict:\n",
        "    new_dict = {}\n",
        "    for k in keys:\n",
        "        new_dict.update({k:d[k]})\n",
        "    return new_dict\n",
        "find_keys(client_dict)\n",
        ""
      ]
    },
    {
      "cell_type": "markdown",
      "id": "b2318e54-2120-41fd-a16f-f1702a362908",
      "metadata": {
        "id": "b2318e54-2120-41fd-a16f-f1702a362908"
      },
      "source": [
        "### 3.2 Используя dict comprehensions"
      ]
    },
    {
      "cell_type": "code",
      "execution_count": null,
      "id": "fd82d31d-3de1-40d7-a98c-567a632f1831",
      "metadata": {
        "id": "fd82d31d-3de1-40d7-a98c-567a632f1831",
        "outputId": "d4c661ee-0cfe-4b42-f0bd-7350691d50ec"
      },
      "outputs": [
        {
          "data": {
            "text/plain": [
              "{'name': 'John', 'age': 25}"
            ]
          },
          "execution_count": 39,
          "metadata": {},
          "output_type": "execute_result"
        }
      ],
      "source": [
        "client_dict = {\"name\": \"John\", \"age\": 25, \"salary\": 5000, \"city\": \"Moscow\"}\n",
        "\n",
        "new_dict = {key: client_dict[key] for key in ['name', 'age']}\n",
        "new_dict"
      ]
    },
    {
      "cell_type": "markdown",
      "id": "517be19c-16a7-43f5-acd4-46f7a03d89bd",
      "metadata": {
        "id": "517be19c-16a7-43f5-acd4-46f7a03d89bd"
      },
      "source": [
        "## Задача 4"
      ]
    },
    {
      "cell_type": "markdown",
      "id": "8d18b35e-8e72-4d97-a6bb-3a7fb82a6c51",
      "metadata": {
        "id": "8d18b35e-8e72-4d97-a6bb-3a7fb82a6c51"
      },
      "source": [
        "### 4.1 Сгенерируйте случайные целые числа от 0 до 100 в количестве 5 штук с помощью модуля random\n",
        "● Зафиксируйте псевдогенерацию, чтобы сгенерированные значения всегда были одинаковые\n",
        "\n",
        "● Используйте list comprehensions\n"
      ]
    },
    {
      "cell_type": "code",
      "execution_count": null,
      "id": "cf97d278-3856-4508-827d-67096cb78158",
      "metadata": {
        "id": "cf97d278-3856-4508-827d-67096cb78158"
      },
      "outputs": [],
      "source": [
        "import random"
      ]
    },
    {
      "cell_type": "code",
      "execution_count": null,
      "id": "de71b8cb-4e40-42ce-9d9b-3ea35a1265c9",
      "metadata": {
        "id": "de71b8cb-4e40-42ce-9d9b-3ea35a1265c9",
        "outputId": "6bc1df7d-a547-407a-ef59-249540efbc7e"
      },
      "outputs": [
        {
          "data": {
            "text/plain": [
              "[76, 80, 80, 66, 7]"
            ]
          },
          "execution_count": 7,
          "metadata": {},
          "output_type": "execute_result"
        }
      ],
      "source": [
        "random.seed()\n",
        "rand_lst = [random.randint(0, 100) for i in range(5)]\n",
        "rand_lst"
      ]
    },
    {
      "cell_type": "markdown",
      "id": "66aecc34-b009-472b-9eff-297b556f05a1",
      "metadata": {
        "id": "66aecc34-b009-472b-9eff-297b556f05a1"
      },
      "source": [
        "## 4.2 Напишите генератор\n",
        "Генератор на вход принимает список с данными о клиенте (данные из пункта 4.1)\n",
        "\n",
        "Внутри генератора реализуйте обход по списку с данными\n",
        "\n",
        "На каждой итерации генератор будет возвращать кортеж из двух элементов:\n",
        "1. данные по клиенту (в зависимости от итерации, на 0 итерации вернется 0 элемент, на 1 итерации вернется 1 элемент и тд)\n",
        "2. целочисленное значение, которое показывает, сколько секунд прошло с предыдущей итерации\n",
        "\n",
        "Примечание: секунды, которые возвращаются должны показывать время не с начала запуска генератора, а именно то время, которое прошло с предыдущей итерации. А значит время на первой итерации должно равняться 0.\n",
        "\n",
        "Используйте функцию time из модуля time для подсчета времени. Чтобы проверить работу таймера, запустите проход по генератору в цикле с time.sleep(2)"
      ]
    },
    {
      "cell_type": "code",
      "execution_count": null,
      "id": "ab69c148-ec7e-4a83-90a0-0277ccd224ac",
      "metadata": {
        "id": "ab69c148-ec7e-4a83-90a0-0277ccd224ac"
      },
      "outputs": [],
      "source": [
        "import time"
      ]
    },
    {
      "cell_type": "code",
      "execution_count": null,
      "id": "26018e1d-4e28-401b-81c3-45e1a011f6f2",
      "metadata": {
        "id": "26018e1d-4e28-401b-81c3-45e1a011f6f2"
      },
      "outputs": [],
      "source": [
        "def time_lst_gen(lst):\n",
        "  time_min = 0\n",
        "  for item in lst:\n",
        "    current_time = time.time()\n",
        "    if time_min:\n",
        "      delta = current_time - time_min\n",
        "    else:\n",
        "      delta = current_time - current_time\n",
        "    time_min = current_time\n",
        "    yield item, int(delta)"
      ]
    },
    {
      "cell_type": "code",
      "execution_count": null,
      "id": "85067b07-3f6d-4711-8cd7-7a43287af7b7",
      "metadata": {
        "id": "85067b07-3f6d-4711-8cd7-7a43287af7b7"
      },
      "outputs": [],
      "source": [
        "def time_lst_gen_1(lst):\n",
        "  time_min = time.time()\n",
        "  for item in lst:\n",
        "    current_time = time.time()\n",
        "    yield item, int(current_time-time_min)\n",
        "    time_min = current_time"
      ]
    },
    {
      "cell_type": "code",
      "execution_count": null,
      "id": "3dcae0b8-6d5d-45bb-adf0-0a16fea4988f",
      "metadata": {
        "id": "3dcae0b8-6d5d-45bb-adf0-0a16fea4988f",
        "outputId": "5d149132-8159-4da1-e6ff-7593cba8b4cd"
      },
      "outputs": [
        {
          "name": "stdout",
          "output_type": "stream",
          "text": [
            "(76, 0)\n",
            "(80, 2)\n",
            "(80, 2)\n",
            "(66, 2)\n",
            "(7, 2)\n"
          ]
        }
      ],
      "source": [
        "for g in time_lst_gen_1(rand_lst):\n",
        "  print(g)\n",
        "  time.sleep(2)"
      ]
    },
    {
      "cell_type": "markdown",
      "id": "730315e6-b3fe-4e07-807e-54445b24d062",
      "metadata": {
        "id": "730315e6-b3fe-4e07-807e-54445b24d062"
      },
      "source": [
        "## Задание 5"
      ]
    },
    {
      "cell_type": "markdown",
      "id": "965d5584-161a-4a0f-a44b-98eff36f0e2c",
      "metadata": {
        "id": "965d5584-161a-4a0f-a44b-98eff36f0e2c"
      },
      "source": [
        "### 5.1 Найдите картинку в интернете и прикрепите её в ячейку с текстом\n",
        "\n"
      ]
    },
    {
      "cell_type": "markdown",
      "id": "895e4c0f-206d-46c2-bd08-7ede6ce5dfa8",
      "metadata": {
        "id": "895e4c0f-206d-46c2-bd08-7ede6ce5dfa8"
      },
      "source": [
        "<img src=https://bugaga.ru/uploads/posts/2016-08/1471018164_portrety-meynkunov-8.jpg width=300>"
      ]
    },
    {
      "cell_type": "markdown",
      "id": "c9cf62d6-4aee-47ea-b29c-dfe1c1bb5d05",
      "metadata": {
        "id": "c9cf62d6-4aee-47ea-b29c-dfe1c1bb5d05"
      },
      "source": [
        "### 5.2 Создайте следующую таблицу в ячейке с текстом"
      ]
    },
    {
      "cell_type": "markdown",
      "id": "681c6751-94d1-4db6-b7c2-83c9e23e0543",
      "metadata": {
        "id": "681c6751-94d1-4db6-b7c2-83c9e23e0543"
      },
      "source": [
        "<table>\n",
        "    <tr>\n",
        "        <td> </td>\n",
        "        <td>До события</td>\n",
        "        <td>Во время события</td>\n",
        "    </tr>\n",
        "    <tr>\n",
        "        <td>1 точка</td>\n",
        "        <td>250</td>\n",
        "        <td>500</td>\n",
        "    </tr>\n",
        "    <tr>\n",
        "        <td>2 точка</td>\n",
        "        <td>350</td>\n",
        "        <td>700</td>\n",
        "    </tr>\n",
        "    <tr>\n",
        "        <td>3 точка</td>\n",
        "        <td>400</td>\n",
        "        <td>800</td>\n",
        "    </tr>\n",
        "    <tr>\n",
        "        <td>Итого</td>\n",
        "        <td>1000</td>\n",
        "        <td>2000</td>\n",
        "    </tr>\n",
        "</table>"
      ]
    },
    {
      "cell_type": "markdown",
      "id": "676a544d-f024-48b7-a649-6a309fe882d4",
      "metadata": {
        "id": "676a544d-f024-48b7-a649-6a309fe882d4"
      },
      "source": [
        "| Column 1 | Column 2 | Column 3 |\n",
        "|----------|----------|----------|\n",
        "| Row 1 | Cell 2 | Cell 3 |\n",
        "| Row 2 | Cell 5 | Cell 6 |\n",
        "| Row 3 | Cell 8 | Cell 9 |"
      ]
    },
    {
      "cell_type": "markdown",
      "id": "048c924e-3bb9-4144-8d56-d76a651e8740",
      "metadata": {
        "id": "048c924e-3bb9-4144-8d56-d76a651e8740"
      },
      "source": [
        "## Задание 6"
      ]
    },
    {
      "cell_type": "markdown",
      "id": "b88d5a69-e636-4021-aac3-f88ed3003f63",
      "metadata": {
        "id": "b88d5a69-e636-4021-aac3-f88ed3003f63"
      },
      "source": [
        "Напишите функцию, которая может принимать любое\n",
        "количество трат пользователя и считать сумму и среднее.\n",
        "На вход поступают целочисленные значения в любом\n",
        "количестве\n",
        "На выходе словарь с ключами суммы трат и средней\n",
        "траты"
      ]
    },
    {
      "cell_type": "code",
      "execution_count": null,
      "id": "e9cf871e-faa9-427b-a5a4-1093156feb7e",
      "metadata": {
        "id": "e9cf871e-faa9-427b-a5a4-1093156feb7e",
        "outputId": "493ab5b9-ed18-4286-ffff-70a4229e907f"
      },
      "outputs": [
        {
          "data": {
            "text/plain": [
              "{'Sum': 2001, 'Average': 500.25}"
            ]
          },
          "execution_count": 16,
          "metadata": {},
          "output_type": "execute_result"
        }
      ],
      "source": [
        "def sum_trat(*args):\n",
        "  s= sum(args)\n",
        "  a= s/len(args)\n",
        "  return {'Sum': s, 'Average': a}\n",
        "\n",
        "sum_trat(500, 265, 578, 658)\n",
        ""
      ]
    },
    {
      "cell_type": "code",
      "execution_count": null,
      "id": "d0b0a679-bc62-446e-a26e-02c8c9b36fc0",
      "metadata": {
        "id": "d0b0a679-bc62-446e-a26e-02c8c9b36fc0"
      },
      "outputs": [],
      "source": []
    }
  ],
  "metadata": {
    "kernelspec": {
      "display_name": "Python 3 (ipykernel)",
      "language": "python",
      "name": "python3"
    },
    "language_info": {
      "codemirror_mode": {
        "name": "ipython",
        "version": 3
      },
      "file_extension": ".py",
      "mimetype": "text/x-python",
      "name": "python",
      "nbconvert_exporter": "python",
      "pygments_lexer": "ipython3",
      "version": "3.11.3"
    },
    "colab": {
      "provenance": [],
      "include_colab_link": true
    }
  },
  "nbformat": 4,
  "nbformat_minor": 5
}
